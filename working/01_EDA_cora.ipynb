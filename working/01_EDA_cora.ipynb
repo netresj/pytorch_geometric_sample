{
 "cells": [
  {
   "cell_type": "code",
   "execution_count": 1,
   "id": "eecd670d-e7ca-4f54-93dd-2b0cfc743f3c",
   "metadata": {},
   "outputs": [],
   "source": [
    "import matplotlib.pyplot as plt\n",
    "import networkx as nx\n",
    "import numpy as np\n",
    "import pandas as pd"
   ]
  },
  {
   "cell_type": "markdown",
   "id": "6cdb1890-aeb4-4de8-9cc9-5e4ccc046fc3",
   "metadata": {},
   "source": [
    "# cora"
   ]
  },
  {
   "cell_type": "code",
   "execution_count": 2,
   "id": "fa130c06-cfc7-4876-bfbe-f030dc720d85",
   "metadata": {},
   "outputs": [
    {
     "data": {
      "text/html": [
       "<div>\n",
       "<style scoped>\n",
       "    .dataframe tbody tr th:only-of-type {\n",
       "        vertical-align: middle;\n",
       "    }\n",
       "\n",
       "    .dataframe tbody tr th {\n",
       "        vertical-align: top;\n",
       "    }\n",
       "\n",
       "    .dataframe thead th {\n",
       "        text-align: right;\n",
       "    }\n",
       "</style>\n",
       "<table border=\"1\" class=\"dataframe\">\n",
       "  <thead>\n",
       "    <tr style=\"text-align: right;\">\n",
       "      <th></th>\n",
       "      <th>source</th>\n",
       "      <th>target</th>\n",
       "    </tr>\n",
       "  </thead>\n",
       "  <tbody>\n",
       "    <tr>\n",
       "      <th>0</th>\n",
       "      <td>35</td>\n",
       "      <td>1033</td>\n",
       "    </tr>\n",
       "    <tr>\n",
       "      <th>1</th>\n",
       "      <td>35</td>\n",
       "      <td>103482</td>\n",
       "    </tr>\n",
       "  </tbody>\n",
       "</table>\n",
       "</div>"
      ],
      "text/plain": [
       "   source  target\n",
       "0      35    1033\n",
       "1      35  103482"
      ]
     },
     "execution_count": 2,
     "metadata": {},
     "output_type": "execute_result"
    }
   ],
   "source": [
    "cora_edges = pd.read_csv(\"data/cora/cora.cites\", sep=\"\\t\", names=[\"source\", \"target\"])\n",
    "cora_edges.head(2)"
   ]
  },
  {
   "cell_type": "code",
   "execution_count": 3,
   "id": "835a7d9f-1652-4d6d-b184-6110ddc870c7",
   "metadata": {},
   "outputs": [
    {
     "data": {
      "text/html": [
       "<div>\n",
       "<style scoped>\n",
       "    .dataframe tbody tr th:only-of-type {\n",
       "        vertical-align: middle;\n",
       "    }\n",
       "\n",
       "    .dataframe tbody tr th {\n",
       "        vertical-align: top;\n",
       "    }\n",
       "\n",
       "    .dataframe thead th {\n",
       "        text-align: right;\n",
       "    }\n",
       "</style>\n",
       "<table border=\"1\" class=\"dataframe\">\n",
       "  <thead>\n",
       "    <tr style=\"text-align: right;\">\n",
       "      <th></th>\n",
       "      <th>node</th>\n",
       "      <th>word0</th>\n",
       "      <th>word1</th>\n",
       "      <th>word2</th>\n",
       "      <th>word3</th>\n",
       "      <th>word4</th>\n",
       "      <th>word5</th>\n",
       "      <th>word6</th>\n",
       "      <th>word7</th>\n",
       "      <th>word8</th>\n",
       "      <th>...</th>\n",
       "      <th>word1424</th>\n",
       "      <th>word1425</th>\n",
       "      <th>word1426</th>\n",
       "      <th>word1427</th>\n",
       "      <th>word1428</th>\n",
       "      <th>word1429</th>\n",
       "      <th>word1430</th>\n",
       "      <th>word1431</th>\n",
       "      <th>word1432</th>\n",
       "      <th>label</th>\n",
       "    </tr>\n",
       "  </thead>\n",
       "  <tbody>\n",
       "    <tr>\n",
       "      <th>0</th>\n",
       "      <td>31336</td>\n",
       "      <td>0</td>\n",
       "      <td>0</td>\n",
       "      <td>0</td>\n",
       "      <td>0</td>\n",
       "      <td>0</td>\n",
       "      <td>0</td>\n",
       "      <td>0</td>\n",
       "      <td>0</td>\n",
       "      <td>0</td>\n",
       "      <td>...</td>\n",
       "      <td>0</td>\n",
       "      <td>0</td>\n",
       "      <td>1</td>\n",
       "      <td>0</td>\n",
       "      <td>0</td>\n",
       "      <td>0</td>\n",
       "      <td>0</td>\n",
       "      <td>0</td>\n",
       "      <td>0</td>\n",
       "      <td>Neural_Networks</td>\n",
       "    </tr>\n",
       "    <tr>\n",
       "      <th>1</th>\n",
       "      <td>1061127</td>\n",
       "      <td>0</td>\n",
       "      <td>0</td>\n",
       "      <td>0</td>\n",
       "      <td>0</td>\n",
       "      <td>0</td>\n",
       "      <td>0</td>\n",
       "      <td>0</td>\n",
       "      <td>0</td>\n",
       "      <td>0</td>\n",
       "      <td>...</td>\n",
       "      <td>0</td>\n",
       "      <td>1</td>\n",
       "      <td>0</td>\n",
       "      <td>0</td>\n",
       "      <td>0</td>\n",
       "      <td>0</td>\n",
       "      <td>0</td>\n",
       "      <td>0</td>\n",
       "      <td>0</td>\n",
       "      <td>Rule_Learning</td>\n",
       "    </tr>\n",
       "  </tbody>\n",
       "</table>\n",
       "<p>2 rows × 1435 columns</p>\n",
       "</div>"
      ],
      "text/plain": [
       "      node  word0  word1  word2  word3  word4  word5  word6  word7  word8  \\\n",
       "0    31336      0      0      0      0      0      0      0      0      0   \n",
       "1  1061127      0      0      0      0      0      0      0      0      0   \n",
       "\n",
       "   ...  word1424  word1425  word1426  word1427  word1428  word1429  word1430  \\\n",
       "0  ...         0         0         1         0         0         0         0   \n",
       "1  ...         0         1         0         0         0         0         0   \n",
       "\n",
       "   word1431  word1432            label  \n",
       "0         0         0  Neural_Networks  \n",
       "1         0         0    Rule_Learning  \n",
       "\n",
       "[2 rows x 1435 columns]"
      ]
     },
     "execution_count": 3,
     "metadata": {},
     "output_type": "execute_result"
    }
   ],
   "source": [
    "names = [\"node\"] + [f\"word{i}\" for i in range(1433)] + [\"label\"]\n",
    "cora_context = pd.read_csv(\"data/cora/cora.content\", sep=\"\\t\", names=names)\n",
    "cora_context.head(2)"
   ]
  },
  {
   "cell_type": "markdown",
   "id": "794ebbb4-4854-4f83-af1d-1af2370f2bcb",
   "metadata": {},
   "source": [
    "## グラフデータの情報"
   ]
  },
  {
   "cell_type": "code",
   "execution_count": 4,
   "id": "e6cba209-81a9-47bd-8e30-f7b9b859efba",
   "metadata": {},
   "outputs": [],
   "source": [
    "G = nx.Graph()\n",
    "G.add_edges_from(cora_edges.values)"
   ]
  },
  {
   "cell_type": "code",
   "execution_count": 5,
   "id": "483c0cc6-6b57-4ae5-93a5-4791a6acf312",
   "metadata": {},
   "outputs": [
    {
     "name": "stdout",
     "output_type": "stream",
     "text": [
      "ノード数: 2708\n",
      "エッジ数: 5278\n"
     ]
    }
   ],
   "source": [
    "# 基本的な情報\n",
    "print(\"ノード数:\", G.number_of_nodes())\n",
    "print(\"エッジ数:\", G.number_of_edges())"
   ]
  },
  {
   "cell_type": "code",
   "execution_count": 6,
   "id": "56329e9d-56fa-45df-8cdf-f0bf8abdb5ff",
   "metadata": {},
   "outputs": [
    {
     "name": "stdout",
     "output_type": "stream",
     "text": [
      "平均次数: 3.8980797636632203\n"
     ]
    },
    {
     "data": {
      "text/plain": [
       "<matplotlib.collections.PathCollection at 0xffff5cd3db80>"
      ]
     },
     "execution_count": 6,
     "metadata": {},
     "output_type": "execute_result"
    },
    {
     "data": {
      "image/png": "[encoded data removed]",
      "text/plain": [
       "<Figure size 432x288 with 1 Axes>"
      ]
     },
     "metadata": {
      "needs_background": "light"
     },
     "output_type": "display_data"
    }
   ],
   "source": [
    "# 次数周りの確認\n",
    "\n",
    "print(\"平均次数:\", np.average([degree for node, degree in G.degree]))\n",
    "\n",
    "dh = nx.degree_histogram(G)\n",
    "plt.scatter(x=np.arange(len(dh)), y=dh)"
   ]
  },
  {
   "cell_type": "code",
   "execution_count": 7,
   "id": "86579d14-0b82-483e-96b7-538c17d6a806",
   "metadata": {},
   "outputs": [
    {
     "name": "stdout",
     "output_type": "stream",
     "text": [
      "components数: 78\n",
      "クラスタ係数: 0.2406732985019372\n"
     ]
    }
   ],
   "source": [
    "# その他の情報\n",
    "print(\"components数:\", nx.number_connected_components(G))\n",
    "print(\"クラスタ係数:\", nx.average_clustering(G))"
   ]
  },
  {
   "cell_type": "markdown",
   "id": "c452e73e-e79d-4a44-a088-67e751193480",
   "metadata": {},
   "source": [
    "## ラベルデータの情報"
   ]
  },
  {
   "cell_type": "code",
   "execution_count": 9,
   "id": "fe365fe2-af0d-4210-ba1f-ff1246517995",
   "metadata": {},
   "outputs": [
    {
     "data": {
      "text/plain": [
       "label\n",
       "Neural_Networks           818\n",
       "Probabilistic_Methods     426\n",
       "Genetic_Algorithms        418\n",
       "Theory                    351\n",
       "Case_Based                298\n",
       "Reinforcement_Learning    217\n",
       "Rule_Learning             180\n",
       "dtype: int64"
      ]
     },
     "execution_count": 9,
     "metadata": {},
     "output_type": "execute_result"
    }
   ],
   "source": [
    "# ラベルの分布\n",
    "cora_context.groupby(\"label\").size().sort_values(ascending=False)"
   ]
  },
  {
   "cell_type": "code",
   "execution_count": 14,
   "id": "19333de6-7ea7-4550-b9d9-9a51bbe31fe0",
   "metadata": {},
   "outputs": [
    {
     "data": {
      "text/plain": [
       "word1177    0.399926\n",
       "word1263    0.361891\n",
       "word507     0.249631\n",
       "word1209    0.215657\n",
       "word19      0.206795\n",
       "word1075    0.173191\n",
       "word1381    0.156573\n",
       "word774     0.148449\n",
       "word1328    0.135894\n",
       "word132     0.105982\n",
       "word1352    0.103028\n",
       "word1131    0.096381\n",
       "word1301    0.096012\n",
       "word495     0.093427\n",
       "word1071    0.093427\n",
       "word1230    0.093058\n",
       "word619     0.092688\n",
       "word540     0.086411\n",
       "word729     0.086411\n",
       "word1132    0.084195\n",
       "word1198    0.080133\n",
       "word1262    0.077548\n",
       "word763     0.076809\n",
       "word1389    0.075702\n",
       "word1332    0.074594\n",
       "word99      0.072378\n",
       "word1170    0.072009\n",
       "word969     0.072009\n",
       "word1118    0.070532\n",
       "word1249    0.070162\n",
       "dtype: float64"
      ]
     },
     "execution_count": 14,
     "metadata": {},
     "output_type": "execute_result"
    }
   ],
   "source": [
    "cora_context.drop([\"node\", \"label\"], axis=\"columns\").mean().sort_values(ascending=False)[:30]"
   ]
  },
  {
   "cell_type": "code",
   "execution_count": 15,
   "id": "7982e308-8c86-4a2c-85fc-55d5dfffb78b",
   "metadata": {},
   "outputs": [
    {
     "data": {
      "text/plain": [
       "count    1433.000000\n",
       "mean        0.012683\n",
       "std         0.023831\n",
       "min         0.000000\n",
       "25%         0.002954\n",
       "50%         0.005539\n",
       "75%         0.013294\n",
       "max         0.399926\n",
       "dtype: float64"
      ]
     },
     "execution_count": 15,
     "metadata": {},
     "output_type": "execute_result"
    }
   ],
   "source": [
    "cora_context.drop([\"node\", \"label\"], axis=\"columns\").mean().describe()"
   ]
  },
  {
   "cell_type": "code",
   "execution_count": 16,
   "id": "ad6f62bd-fd34-49c7-bba5-bc81d9c11498",
   "metadata": {},
   "outputs": [
    {
     "data": {
      "text/plain": [
       "838     30\n",
       "1393    28\n",
       "2609    28\n",
       "1128    27\n",
       "1724    27\n",
       "1959    27\n",
       "242     27\n",
       "1057    27\n",
       "886     27\n",
       "383     27\n",
       "534     27\n",
       "1995    26\n",
       "1326    26\n",
       "704     26\n",
       "966     26\n",
       "35      26\n",
       "1605    26\n",
       "1213    26\n",
       "2404    26\n",
       "2220    26\n",
       "170     26\n",
       "1507    26\n",
       "173     26\n",
       "2100    26\n",
       "1340    26\n",
       "2657    26\n",
       "1275    26\n",
       "1826    26\n",
       "1438    26\n",
       "1294    26\n",
       "dtype: int64"
      ]
     },
     "execution_count": 16,
     "metadata": {},
     "output_type": "execute_result"
    }
   ],
   "source": [
    "cora_context.drop([\"node\", \"label\"], axis=\"columns\").sum(axis=1).sort_values(ascending=False)[:30]"
   ]
  },
  {
   "cell_type": "code",
   "execution_count": 17,
   "id": "7a369b3b-0a0c-4117-8096-47eab146d23f",
   "metadata": {},
   "outputs": [
    {
     "data": {
      "text/plain": [
       "count    2708.000000\n",
       "mean       18.174298\n",
       "std         5.758010\n",
       "min         1.000000\n",
       "25%        17.000000\n",
       "50%        20.000000\n",
       "75%        22.000000\n",
       "max        30.000000\n",
       "dtype: float64"
      ]
     },
     "execution_count": 17,
     "metadata": {},
     "output_type": "execute_result"
    }
   ],
   "source": [
    "cora_context.drop([\"node\", \"label\"], axis=\"columns\").sum(axis=1).describe()"
   ]
  },
  {
   "cell_type": "code",
   "execution_count": null,
   "id": "56519f33-8bf0-4db7-84cb-1dbe86e24729",
   "metadata": {},
   "outputs": [],
   "source": []
  }
 ],
 "metadata": {
  "kernelspec": {
   "display_name": "Python 3 (ipykernel)",
   "language": "python",
   "name": "python3"
  },
  "language_info": {
   "codemirror_mode": {
    "name": "ipython",
    "version": 3
   },
   "file_extension": ".py",
   "mimetype": "text/x-python",
   "name": "python",
   "nbconvert_exporter": "python",
   "pygments_lexer": "ipython3",
   "version": "3.9.10"
  }
 },
 "nbformat": 4,
 "nbformat_minor": 5
}
